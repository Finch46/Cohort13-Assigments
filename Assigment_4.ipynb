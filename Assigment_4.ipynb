{
 "cells": [
  {
   "cell_type": "code",
   "execution_count": 1,
   "id": "9ca62063-1030-45fd-a23e-1414306fd29b",
   "metadata": {},
   "outputs": [
    {
     "name": "stdin",
     "output_type": "stream",
     "text": [
      "Enter an integer number : 300yetmis1\n"
     ]
    },
    {
     "name": "stdout",
     "output_type": "stream",
     "text": [
      "300yetmis1  is invalid. Please enter valid input.\n"
     ]
    },
    {
     "name": "stdin",
     "output_type": "stream",
     "text": [
      "Enter an integer number : 371.0\n"
     ]
    },
    {
     "name": "stdout",
     "output_type": "stream",
     "text": [
      "371.0  is invalid. Please enter valid input.\n"
     ]
    },
    {
     "name": "stdin",
     "output_type": "stream",
     "text": [
      "Enter an integer number : 371\n"
     ]
    },
    {
     "name": "stdout",
     "output_type": "stream",
     "text": [
      "371  is Armstrong number.\n"
     ]
    }
   ],
   "source": [
    "while True :\n",
    "    tot_= 0\n",
    "    numb_ = input (\"Enter an integer number :\")\n",
    "    digit = len(numb_)\n",
    "    \n",
    "    if not numb_.isdigit ():\n",
    "        print (numb_, \" is invalid. Please enter valid input.\")\n",
    "        \n",
    "    elif int (numb_) >= 0 :\n",
    "        for i in range(len (numb_)) :\n",
    "            tot_ = tot_ + int (numb_ [i]) ** digit\n",
    "            \n",
    "        if tot_ == int(numb_) :\n",
    "            print (numb_, \" is Armstrong number.\") \n",
    "            break\n",
    "        else:\n",
    "            print (numb_, \"is not Armstrong number.\")\n",
    "            break"
   ]
  },
  {
   "cell_type": "code",
   "execution_count": null,
   "id": "8bdb0052-864d-4ff9-a7d1-8ab217c1350e",
   "metadata": {},
   "outputs": [],
   "source": []
  }
 ],
 "metadata": {
  "kernelspec": {
   "display_name": "Python 3 (ipykernel)",
   "language": "python",
   "name": "python3"
  },
  "language_info": {
   "codemirror_mode": {
    "name": "ipython",
    "version": 3
   },
   "file_extension": ".py",
   "mimetype": "text/x-python",
   "name": "python",
   "nbconvert_exporter": "python",
   "pygments_lexer": "ipython3",
   "version": "3.10.5"
  }
 },
 "nbformat": 4,
 "nbformat_minor": 5
}
