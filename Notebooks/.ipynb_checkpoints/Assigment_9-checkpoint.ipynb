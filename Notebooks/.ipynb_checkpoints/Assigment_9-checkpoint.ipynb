{
 "cells": [
  {
   "cell_type": "code",
   "execution_count": 3,
   "id": "2d4385d5-2ba3-42dc-b656-6ec2fcec846e",
   "metadata": {},
   "outputs": [
    {
     "name": "stdin",
     "output_type": "stream",
     "text": [
      "Enter your first name and surname:  halit f3633\n"
     ]
    },
    {
     "name": "stdout",
     "output_type": "stream",
     "text": [
      "Hello, Halit! The password is : 3taneküçük3 \n"
     ]
    }
   ],
   "source": [
    "name = \"Halit F3633\"\n",
    "information = input(\"Enter your first name and surname: \")\n",
    "\n",
    "if information.title() == name :\n",
    "  print(\"Hello, Halit! The password is : 3taneküçük3 \")\n",
    "else :\n",
    "  print(f\"Hello, {information}! Stay away from my computer.\")"
   ]
  },
  {
   "cell_type": "code",
   "execution_count": null,
   "id": "287e367d-af8e-4e66-9081-09e1dba34093",
   "metadata": {},
   "outputs": [],
   "source": []
  },
  {
   "cell_type": "code",
   "execution_count": 4,
   "id": "0fa21d6c-1183-409e-a695-004bfaa71447",
   "metadata": {},
   "outputs": [
    {
     "name": "stdin",
     "output_type": "stream",
     "text": [
      "Enter your first name and surname:  adi bende sakli\n"
     ]
    },
    {
     "name": "stdout",
     "output_type": "stream",
     "text": [
      "Hello, adi bende sakli! Stay away from my computer.\n"
     ]
    }
   ],
   "source": [
    "name = \"Halit Yilmaz\"\n",
    "information = input(\"Enter your first name and surname: \")\n",
    "\n",
    "if information.title() == name :\n",
    "  print(\"Hello, Halit! The password is : 3taneküçük3 \")\n",
    "else :\n",
    "  print(f\"Hello, {information}! Stay away from my computer.\")"
   ]
  },
  {
   "cell_type": "code",
   "execution_count": null,
   "id": "9ce562f9-001f-4d7f-a95f-499402e111cc",
   "metadata": {},
   "outputs": [],
   "source": []
  }
 ],
 "metadata": {
  "kernelspec": {
   "display_name": "Python 3 (ipykernel)",
   "language": "python",
   "name": "python3"
  },
  "language_info": {
   "codemirror_mode": {
    "name": "ipython",
    "version": 3
   },
   "file_extension": ".py",
   "mimetype": "text/x-python",
   "name": "python",
   "nbconvert_exporter": "python",
   "pygments_lexer": "ipython3",
   "version": "3.10.5"
  }
 },
 "nbformat": 4,
 "nbformat_minor": 5
}
