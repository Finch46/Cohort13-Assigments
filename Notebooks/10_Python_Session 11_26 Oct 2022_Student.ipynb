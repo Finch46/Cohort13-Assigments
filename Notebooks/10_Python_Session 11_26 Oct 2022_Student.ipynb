{
 "cells": [
  {
   "cell_type": "markdown",
   "id": "29d60b78",
   "metadata": {},
   "source": [
    "<img src=\"https://docs.google.com/uc?id=14xeXxFrVRjvOoUYWn_GuyE-v84wVzrqr\" class=\"img-fluid\" alt=\"CLRWY\" width=\"400\" height=\"200\">"
   ]
  },
  {
   "cell_type": "markdown",
   "id": "d87aeae5",
   "metadata": {},
   "source": [
    "<h1><p style=\"text-align: center; color:darkblue\">Python Session-11 <br> 26 Oct 2022</p>"
   ]
  },
  {
   "cell_type": "markdown",
   "id": "2a056995",
   "metadata": {},
   "source": [
    "## <p style=\"background-color:#FDFEFE; font-family:newtimeroman; color:#4d77cf; font-size:150%; text-align:center; border-radius:10px 10px;\"><br><br>Definition&Creating a Set<br><br>Main Operations with Sets<br><br>Conditional Statemenst - IF Statements</p>"
   ]
  },
  {
   "cell_type": "markdown",
   "id": "ab0f9c4f",
   "metadata": {},
   "source": [
    "<a id=\"toc\"></a>\n",
    "\n",
    "## <p style=\"background-color:#9d4f8c; font-family:newtimeroman; color:#FFF9ED; font-size:175%; text-align:center; border-radius:10px 10px;\">Definition&Creating a Set</p>"
   ]
  },
  {
   "cell_type": "code",
   "execution_count": 1,
   "id": "a49ac13c",
   "metadata": {},
   "outputs": [
    {
     "data": {
      "text/plain": [
       "{'blue', 'pink', 'purple', 'red', 'white'}"
      ]
     },
     "execution_count": 1,
     "metadata": {},
     "output_type": "execute_result"
    }
   ],
   "source": [
    "colors = \"red\", \"blue\", \"pink\", \"red\", \"white\", \"blue\", \"purple\"\n",
    "set(colors)"
   ]
  },
  {
   "cell_type": "code",
   "execution_count": 2,
   "id": "f5328770",
   "metadata": {},
   "outputs": [
    {
     "data": {
      "text/plain": [
       "{0, 1, 2}"
      ]
     },
     "execution_count": 2,
     "metadata": {},
     "output_type": "execute_result"
    }
   ],
   "source": [
    "ilk_kume={1,1,2,0,1}\n",
    "ilk_kume"
   ]
  },
  {
   "cell_type": "code",
   "execution_count": 3,
   "id": "6ef79ca8-d203-495b-9597-8ff9f820a50d",
   "metadata": {},
   "outputs": [
    {
     "data": {
      "text/plain": [
       "5"
      ]
     },
     "execution_count": 3,
     "metadata": {},
     "output_type": "execute_result"
    }
   ],
   "source": [
    "len([1,1,2,0,1])"
   ]
  },
  {
   "cell_type": "code",
   "execution_count": 4,
   "id": "b55a33e8-55ee-4ae2-9c9f-4267cbb7fa31",
   "metadata": {},
   "outputs": [
    {
     "data": {
      "text/plain": [
       "{0, 1, 2}"
      ]
     },
     "execution_count": 4,
     "metadata": {},
     "output_type": "execute_result"
    }
   ],
   "source": [
    "{1,1,2,0,1,1,1,1}"
   ]
  },
  {
   "cell_type": "code",
   "execution_count": 5,
   "id": "57715493-0d14-439f-8c7a-48160e84633c",
   "metadata": {},
   "outputs": [],
   "source": [
    "letters=\"a b c d e f g h i j k l m n o p q r s t u x v w y z\".split()"
   ]
  },
  {
   "cell_type": "code",
   "execution_count": 6,
   "id": "112831f9-a503-4d69-b8f9-4fa17212ab2c",
   "metadata": {},
   "outputs": [
    {
     "name": "stdout",
     "output_type": "stream",
     "text": [
      "{'p', 'g', 'o', 'y', 'k', 'j', 'i', 'n', 'f', 'e', 'r', 'w', 's', 'm', 'v', 'b', 'l', 'z', 'q', 'x', 'c', 'h', 'd', 'a', 't', 'u'}\n"
     ]
    }
   ],
   "source": [
    "print(set(letters))"
   ]
  },
  {
   "cell_type": "code",
   "execution_count": 7,
   "id": "00fa1098-8c6b-4a90-9f0c-f4a1d6140366",
   "metadata": {},
   "outputs": [
    {
     "data": {
      "text/plain": [
       "2"
      ]
     },
     "execution_count": 7,
     "metadata": {},
     "output_type": "execute_result"
    }
   ],
   "source": [
    "soyle_birsey = {1,\"1\", 1.0}\n",
    "len(soyle_birsey)"
   ]
  },
  {
   "cell_type": "code",
   "execution_count": 8,
   "id": "0d970d80",
   "metadata": {},
   "outputs": [
    {
     "data": {
      "text/plain": [
       "True"
      ]
     },
     "execution_count": 8,
     "metadata": {},
     "output_type": "execute_result"
    }
   ],
   "source": [
    "1==1.0"
   ]
  },
  {
   "cell_type": "code",
   "execution_count": 9,
   "id": "bd87c18c-cac4-4eec-99a7-2c46b4ae9eb4",
   "metadata": {},
   "outputs": [],
   "source": [
    "given_list=[1,2,3,4,5]"
   ]
  },
  {
   "cell_type": "code",
   "execution_count": 10,
   "id": "c683d801-18ff-4f13-9a88-df3d69b4aab0",
   "metadata": {},
   "outputs": [
    {
     "ename": "TypeError",
     "evalue": "unhashable type: 'list'",
     "output_type": "error",
     "traceback": [
      "\u001b[0;31m---------------------------------------------------------------------------\u001b[0m",
      "\u001b[0;31mTypeError\u001b[0m                                 Traceback (most recent call last)",
      "Input \u001b[0;32mIn [10]\u001b[0m, in \u001b[0;36m<cell line: 1>\u001b[0;34m()\u001b[0m\n\u001b[0;32m----> 1\u001b[0m \u001b[38;5;28mlen\u001b[39m({given_list})\n\u001b[1;32m      2\u001b[0m kume\n",
      "\u001b[0;31mTypeError\u001b[0m: unhashable type: 'list'"
     ]
    }
   ],
   "source": [
    "len({given_list})\n",
    "kume"
   ]
  },
  {
   "cell_type": "markdown",
   "id": "e7915858-dad8-4bda-9af0-a1cc27dd6c46",
   "metadata": {},
   "source": [
    "mutable değiştirilebilenler: list, dict, set, user-defined classes\n",
    "immutable: int, float, decimal, bool, string, tuple, range"
   ]
  },
  {
   "cell_type": "code",
   "execution_count": null,
   "id": "40c5ee57-de62-43c8-9128-20aa2d9e6f0b",
   "metadata": {},
   "outputs": [],
   "source": [
    "set((1,2,3,4,5))"
   ]
  },
  {
   "cell_type": "code",
   "execution_count": null,
   "id": "8ade0eeb-cb38-42b7-bef5-5e0dae1d3838",
   "metadata": {},
   "outputs": [],
   "source": [
    "set[(1,2,3,4,5)]"
   ]
  },
  {
   "cell_type": "code",
   "execution_count": null,
   "id": "43c3f61c-2322-4a16-a2e1-a91193964631",
   "metadata": {},
   "outputs": [],
   "source": []
  },
  {
   "cell_type": "code",
   "execution_count": null,
   "id": "b1c23d77-28d0-4cad-adc4-67d87e50aa9f",
   "metadata": {},
   "outputs": [],
   "source": [
    "listem=[[1,2,3], \"a\", 6, 3.14]\n",
    "\n",
    "setim=set(listem)\n",
    "setim"
   ]
  },
  {
   "cell_type": "code",
   "execution_count": null,
   "id": "530a925e-5bd3-4c7f-839c-c72a0a79748b",
   "metadata": {},
   "outputs": [],
   "source": [
    "{ [1, \"bir\"], \"ali\", \"deli\"}"
   ]
  },
  {
   "cell_type": "code",
   "execution_count": null,
   "id": "17c52530-0314-44ed-8df4-0c243cf15b30",
   "metadata": {},
   "outputs": [],
   "source": [
    "{1,2,{\"ali\", \"veli\", 3, 4}}"
   ]
  },
  {
   "cell_type": "code",
   "execution_count": null,
   "id": "46d3faa9-f845-43e9-88fc-afb68f7d85e8",
   "metadata": {},
   "outputs": [],
   "source": [
    "tuple_set={1,2,(3,4)}   # degistirilemez tuple kabul etti\n",
    "tuple_set"
   ]
  },
  {
   "cell_type": "code",
   "execution_count": null,
   "id": "45a23568-d4a0-425f-8f93-889b28322e8a",
   "metadata": {},
   "outputs": [],
   "source": []
  },
  {
   "cell_type": "code",
   "execution_count": null,
   "id": "3c9046ed-e90d-4861-b03f-9c8b557ea1f1",
   "metadata": {},
   "outputs": [],
   "source": []
  },
  {
   "cell_type": "code",
   "execution_count": null,
   "id": "d0498b80-5924-4ce0-b118-7c8b0bb472ca",
   "metadata": {},
   "outputs": [],
   "source": []
  },
  {
   "cell_type": "code",
   "execution_count": null,
   "id": "055be385-ac88-4796-bfad-8178517f4d8e",
   "metadata": {},
   "outputs": [],
   "source": []
  },
  {
   "cell_type": "code",
   "execution_count": null,
   "id": "225ee406-7da2-41bf-baf8-c7d3a997c471",
   "metadata": {},
   "outputs": [],
   "source": []
  },
  {
   "cell_type": "code",
   "execution_count": null,
   "id": "41ad136b-5ef0-429c-bbad-dea063b514f1",
   "metadata": {},
   "outputs": [],
   "source": []
  },
  {
   "cell_type": "code",
   "execution_count": null,
   "id": "5ae0710d",
   "metadata": {},
   "outputs": [],
   "source": []
  },
  {
   "cell_type": "markdown",
   "id": "eb7afbbe",
   "metadata": {},
   "source": [
    "<a id=\"toc\"></a>\n",
    "\n",
    "## <p style=\"background-color:#9d4f8c; font-family:newtimeroman; color:#FFF9ED; font-size:175%; text-align:center; border-radius:10px 10px;\">Main Operations with Sets</p>"
   ]
  },
  {
   "cell_type": "code",
   "execution_count": null,
   "id": "d2288c4f-0ead-4b16-9850-ecc8099b1912",
   "metadata": {},
   "outputs": [],
   "source": [
    "a = {'carnation', 'orchid', 'rose', 'violet'}\n",
    "b = {'rose', 'orchid', 'rose', 'violet', 'carnation'}"
   ]
  },
  {
   "cell_type": "code",
   "execution_count": null,
   "id": "6297022c-22d5-402d-81cd-319f1085442d",
   "metadata": {},
   "outputs": [],
   "source": [
    "a"
   ]
  },
  {
   "cell_type": "code",
   "execution_count": null,
   "id": "c0898cbb-6c91-4798-8a15-2718aca39336",
   "metadata": {},
   "outputs": [],
   "source": [
    "^^’^⁄¿≈}ºÖÄﬂ˝ıŒ∏’^}≈{\\{\\\\‰$‰”‰”§§“∞''‘''''''}}"
   ]
  },
  {
   "cell_type": "code",
   "execution_count": null,
   "id": "54feb745-285a-4c7d-8448-3de3c4a6598e",
   "metadata": {},
   "outputs": [],
   "source": [
    "idag = set('26/10/2022')\n",
    "idag1= {'26/10/2022'}\n",
    "print(idag, idag1)\n"
   ]
  },
  {
   "cell_type": "code",
   "execution_count": null,
   "id": "9abde0d9-41f4-49e2-93a8-80d2e6bf1ce1",
   "metadata": {},
   "outputs": [],
   "source": [
    "date1 = set('05/21/2022')\n",
    "date2 = {'05/21/2022'}\n",
    "print(date1)\n",
    "print(date2)"
   ]
  },
  {
   "cell_type": "code",
   "execution_count": null,
   "id": "cb48e400-0639-48f2-a999-89e23d7f9bf6",
   "metadata": {},
   "outputs": [],
   "source": [
    "liste = [1, 2, 3, 3, 3, 3, 4, 4, 5, 5]\n",
    "unique = set(liste)\n",
    "print(unique)"
   ]
  },
  {
   "cell_type": "code",
   "execution_count": null,
   "id": "8b255dd5-ee8d-4093-8d05-8aa3fad0c49b",
   "metadata": {},
   "outputs": [],
   "source": [
    "turkey = set(\"Ankara\")\n",
    "sverige = set(\"Stockholm\")\n",
    "print(turkey)\n",
    "print(sverige)"
   ]
  },
  {
   "cell_type": "code",
   "execution_count": null,
   "id": "32471f2f",
   "metadata": {},
   "outputs": [],
   "source": [
    "print(turkey.difference(sverige))\n",
    "print(turkey.intersection(sverige))\n",
    "print(turkey.union(sverige))"
   ]
  },
  {
   "cell_type": "code",
   "execution_count": null,
   "id": "85d4de62-7cf1-462c-94ac-c52480d95c54",
   "metadata": {},
   "outputs": [],
   "source": []
  },
  {
   "cell_type": "code",
   "execution_count": null,
   "id": "1723785a-cb1e-49fe-a921-9908f992746d",
   "metadata": {},
   "outputs": [],
   "source": [
    "minced=False\n",
    "bread=False\n",
    "lettuce=False\n",
    "onion=False\n",
    "\n",
    "McDonald=False"
   ]
  },
  {
   "cell_type": "code",
   "execution_count": null,
   "id": "f23f3b51-87b9-4a99-a76c-f5999a54f746",
   "metadata": {},
   "outputs": [],
   "source": [
    "hamburger= minced or bread or lettuce or onion or grocer\n",
    "hamburger\n",
    "\n",
    "if hamburger :\n",
    "    print(\"Bon Appetit\")"
   ]
  },
  {
   "cell_type": "code",
   "execution_count": null,
   "id": "53540c77-d87a-4314-921a-b29312c163be",
   "metadata": {},
   "outputs": [],
   "source": []
  },
  {
   "cell_type": "code",
   "execution_count": null,
   "id": "39f20efd-9b3e-42e6-a7eb-9a8f08c59796",
   "metadata": {},
   "outputs": [],
   "source": []
  },
  {
   "cell_type": "code",
   "execution_count": null,
   "id": "8d73d139-3472-4dfc-9204-9965f57475ed",
   "metadata": {},
   "outputs": [],
   "source": []
  },
  {
   "cell_type": "code",
   "execution_count": null,
   "id": "e2f56b0a-e50a-4ee7-8c1b-3cacec0e452a",
   "metadata": {},
   "outputs": [],
   "source": []
  },
  {
   "cell_type": "code",
   "execution_count": null,
   "id": "5077b69d",
   "metadata": {},
   "outputs": [],
   "source": []
  },
  {
   "cell_type": "code",
   "execution_count": null,
   "id": "ca081ad4",
   "metadata": {},
   "outputs": [],
   "source": []
  },
  {
   "cell_type": "markdown",
   "id": "2f9092fa",
   "metadata": {},
   "source": [
    "<a id=\"toc\"></a>\n",
    "\n",
    "## <p style=\"background-color:#9d4f8c; font-family:newtimeroman; color:#FFF9ED; font-size:175%; text-align:center; border-radius:10px 10px;\">Conditional Statemenst - IF Statements</p>"
   ]
  },
  {
   "cell_type": "markdown",
   "id": "6a73b16e",
   "metadata": {},
   "source": [
    "<img src=\"Hamburger.png\" class=\"img-fluid\" alt=\"CLRWY\" width=\"400\" height=\"200\">"
   ]
  },
  {
   "cell_type": "code",
   "execution_count": null,
   "id": "737fe1af-84f8-4403-9fdf-e3c89528592e",
   "metadata": {},
   "outputs": [],
   "source": [
    "a=set(\"TWELVE PLUS ONE\")\n",
    "B=set(\"ELEVEN PLUS TWO\")\n",
    "\n",
    "if a==B:\n",
    "    print(\"ayniyiz\")"
   ]
  },
  {
   "cell_type": "code",
   "execution_count": null,
   "id": "17e4a1f3-6fd1-42e4-a09c-e05b1786375f",
   "metadata": {},
   "outputs": [],
   "source": []
  },
  {
   "cell_type": "code",
   "execution_count": null,
   "id": "45ae866d-29f8-4d21-be14-f1ba5f22ad09",
   "metadata": {},
   "outputs": [],
   "source": []
  },
  {
   "cell_type": "code",
   "execution_count": null,
   "id": "71d6c8c7-e8b9-4c1d-8a13-e0321bf59c19",
   "metadata": {},
   "outputs": [],
   "source": [
    "cevir=input(\"evet ya da hayir de : \").title().strip() == \"Evet\"\n",
    "print(\"giris\", cevir)"
   ]
  },
  {
   "cell_type": "code",
   "execution_count": null,
   "id": "85c5bd71-4618-41c7-a827-41fc751d9055",
   "metadata": {},
   "outputs": [],
   "source": []
  },
  {
   "cell_type": "code",
   "execution_count": null,
   "id": "ee0cd21b-4add-434c-8215-6e149079bb23",
   "metadata": {},
   "outputs": [],
   "source": [
    "sayi=int(input(\"sayi gir: \"))\n",
    "if (sayi % 2) == 0:\n",
    "    print(\"{0}  cift\".format(sayi))\n",
    "else:\n",
    "    print(\"{0} tek\".format(sayi))"
   ]
  },
  {
   "cell_type": "code",
   "execution_count": null,
   "id": "1f9408b8-a0af-4223-aaf9-baaff0f4568d",
   "metadata": {},
   "outputs": [],
   "source": []
  },
  {
   "cell_type": "code",
   "execution_count": null,
   "id": "25925f42-5f42-4e88-b88e-484a80fc3ad8",
   "metadata": {},
   "outputs": [],
   "source": [
    "x = int(input(\"enter a number :\"))\n",
    "y = int(input(\"enter a number :\"))\n",
    "if x > y :\n",
    "    print(f\" the large number is {x}\")\n",
    "else : \n",
    "    print(\"the large number is {}\".format(y))"
   ]
  },
  {
   "cell_type": "code",
   "execution_count": null,
   "id": "b0666fe1-acd6-406c-b14d-21f45bca5622",
   "metadata": {},
   "outputs": [],
   "source": []
  },
  {
   "cell_type": "code",
   "execution_count": null,
   "id": "2154dfec-d571-4651-b94b-528644fcbefb",
   "metadata": {},
   "outputs": [],
   "source": [
    "num=float(input(\"enter a number :\")) \n",
    "num2=float(input(\"enter a number :\")) # hocanın yaptığı\n",
    "if num > num2:\n",
    "    print(\"{} The large number is number 2\".format(num))\n",
    "else:\n",
    "    print(\"{}The large number2 is number  \".format(num2))"
   ]
  },
  {
   "cell_type": "code",
   "execution_count": null,
   "id": "a85edea6-7f86-46a2-97a7-f2c5719c0817",
   "metadata": {},
   "outputs": [],
   "source": []
  },
  {
   "cell_type": "code",
   "execution_count": null,
   "id": "6f81b345-af16-467d-9880-1787db99daa8",
   "metadata": {},
   "outputs": [],
   "source": [
    "booling=True\n",
    "if booling:\n",
    "    print(\"yes\")\n",
    "else:\n",
    "    print(\"no\")"
   ]
  },
  {
   "cell_type": "code",
   "execution_count": null,
   "id": "7182cb3b",
   "metadata": {},
   "outputs": [],
   "source": [
    "bool_value = False\n",
    "if bool_value == False :\n",
    "    print(\"No\")\n",
    "else : \n",
    "    print(\"Yes\")"
   ]
  },
  {
   "cell_type": "code",
   "execution_count": null,
   "id": "fbf94644",
   "metadata": {},
   "outputs": [],
   "source": [
    "sayı1 = input(\"Toplama işlemi için ilk sayıyı girin: \", input(\"Toplama işlemi için ikinci sayıyı girin: \"))\n",
    "sayı1"
   ]
  },
  {
   "cell_type": "code",
   "execution_count": null,
   "id": "883a6fca",
   "metadata": {},
   "outputs": [],
   "source": [
    "No such audience staay at home"
   ]
  },
  {
   "cell_type": "code",
   "execution_count": null,
   "id": "b5854435",
   "metadata": {},
   "outputs": [],
   "source": [
    "sayi1 = int(input(\"1. Sayı: \"))\n",
    "sayi2 = int(input(\"2. Sayı: \"))\n",
    "sayi3 = int(input(\"3. Sayı: \"))\n",
    " \n",
    "if (sayi1 >= sayi2) and (sayi1 >= sayi3):\n",
    "   buyuk = sayi1\n",
    "elif (sayi2 >= sayi1) and (sayi2 >= sayi3):\n",
    "   buyuk = sayi2\n",
    "else:\n",
    "   buyuk = sayi3\n",
    " \n",
    "print(\"büyük olan sayı\",buyuk)"
   ]
  },
  {
   "cell_type": "code",
   "execution_count": null,
   "id": "b7a45bb0-93f4-4335-b8c0-f3691d4821bc",
   "metadata": {},
   "outputs": [],
   "source": []
  },
  {
   "cell_type": "code",
   "execution_count": null,
   "id": "f47bf3cf-25dd-44aa-8cf6-140981d43b7f",
   "metadata": {},
   "outputs": [],
   "source": [
    "num = float(input(\"Input a number: \"))\n",
    "if num > 0:\n",
    "   print(\"It is positive number\")\n",
    "elif num == 0:\n",
    "   print(\"It is Zero\")\n",
    "else:\n",
    "   print(\"It is a negative number\")"
   ]
  },
  {
   "cell_type": "code",
   "execution_count": null,
   "id": "e6509661-973f-4087-b00b-a057ca4718bb",
   "metadata": {},
   "outputs": [],
   "source": []
  },
  {
   "cell_type": "code",
   "execution_count": null,
   "id": "a8971268-0d6e-4f3a-bfbc-6b9ab94b974a",
   "metadata": {},
   "outputs": [],
   "source": []
  },
  {
   "cell_type": "code",
   "execution_count": null,
   "id": "e27d7eaf-e372-4b6c-8a58-9f657aa9e2ab",
   "metadata": {},
   "outputs": [],
   "source": [
    "vize1 = input(\"Vize:\")\n",
    "Final = input(\"Final:\")\n",
    "sonuc = int(vize1)*(4/10) + int(Final)*(6/10)\n",
    "if(sonuc >=95):\n",
    "    print(\"Harf Notu: A+\")\n",
    "elif(sonuc>=90 or sonuc==94):\n",
    "    print(\"Harf Notu: A\")\n",
    "elif(85 >= sonuc >=80):\n",
    "    print(\"Harf Notu: B+\")\n",
    "elif(80>= sonuc >= 84):\n",
    "    print(\"Harf Notu: B\")\n",
    "else:\n",
    "    print(\"Harf Notu: B-\")\n",
    "print (\"Ortalama\") \n",
    "print (sonuc)"
   ]
  },
  {
   "cell_type": "code",
   "execution_count": 11,
   "id": "1bf07376-12a4-41e8-b350-3554743ddaa4",
   "metadata": {},
   "outputs": [
    {
     "name": "stdin",
     "output_type": "stream",
     "text": [
      "score gir : 100\n"
     ]
    },
    {
     "name": "stdout",
     "output_type": "stream",
     "text": [
      "your degree:A+\n"
     ]
    }
   ],
   "source": [
    "score = int(input(\"score gir :\"))\n",
    "if score>=90:\n",
    "    if score>=95:\n",
    "        score_letter = \"A+\"\n",
    "    else:\n",
    "        score_letter = \"A\"\n",
    "elif score >=80:\n",
    "    if score>=85:\n",
    "        score_letter = \"B+\"\n",
    "    else:\n",
    "        score_letter = \"B\"\n",
    "else:\n",
    "    score_letter = \"below B\"\n",
    "print(\"your degree:%s\" % score_letter)"
   ]
  },
  {
   "cell_type": "code",
   "execution_count": null,
   "id": "808c3125-4377-4ae4-8c17-bae78be72b16",
   "metadata": {},
   "outputs": [],
   "source": []
  },
  {
   "cell_type": "code",
   "execution_count": null,
   "id": "a30c1705-d917-4a38-8c88-8212241a7ecf",
   "metadata": {},
   "outputs": [],
   "source": []
  },
  {
   "cell_type": "code",
   "execution_count": null,
   "id": "1a877a1b",
   "metadata": {},
   "outputs": [],
   "source": []
  },
  {
   "cell_type": "markdown",
   "id": "937c7c82",
   "metadata": {},
   "source": [
    "<img src=\"https://docs.google.com/uc?id=14xeXxFrVRjvOoUYWn_GuyE-v84wVzrqr\" class=\"img-fluid\" alt=\"CLRWY\" width=\"400\" height=\"200\">"
   ]
  },
  {
   "cell_type": "code",
   "execution_count": null,
   "id": "0222af33-b591-49fb-a753-4faf584a0763",
   "metadata": {},
   "outputs": [],
   "source": [
    "kelime=set(input( ))\n",
    "sol_el=\"qwertyasdfghzxcvb\"\n",
    "sag_el=\"uiopiklmn\"\n",
    "sol=bool(kelime.difference(sol_el))\n",
    "sag=bool(kelime.difference (sag_el))\n",
    "print(sol and sag)"
   ]
  },
  {
   "cell_type": "code",
   "execution_count": null,
   "id": "9324500b-8dd9-4a26-a016-8c0a8910cefb",
   "metadata": {},
   "outputs": [],
   "source": []
  },
  {
   "cell_type": "code",
   "execution_count": null,
   "id": "f1de8b23-c627-4f87-8cea-033b469b1065",
   "metadata": {},
   "outputs": [],
   "source": []
  },
  {
   "cell_type": "code",
   "execution_count": null,
   "id": "2decb169-2635-4308-934f-f24ab7bc2e08",
   "metadata": {},
   "outputs": [],
   "source": []
  },
  {
   "cell_type": "code",
   "execution_count": 15,
   "id": "4d807b4e-b1e4-43e2-b5cd-5507bbad2dfb",
   "metadata": {},
   "outputs": [
    {
     "name": "stdin",
     "output_type": "stream",
     "text": [
      " sasaslklklkl\n"
     ]
    },
    {
     "name": "stdout",
     "output_type": "stream",
     "text": [
      "True\n"
     ]
    }
   ],
   "source": [
    "kelime=set(input( ))\n",
    "\n",
    "sol_el=\"qwertyasdfghzxcvb\"\n",
    "\n",
    "sag_el=\"uiopåæøäiklmn\"\n",
    "\n",
    "sol=bool(kelime.difference(sol_el))\n",
    "\n",
    "sag=bool(kelime.difference (sag_el))\n",
    "\n",
    "print(sol and sag)"
   ]
  },
  {
   "cell_type": "code",
   "execution_count": null,
   "id": "c8aed519-108d-496b-998b-98e19825bfc3",
   "metadata": {},
   "outputs": [],
   "source": []
  },
  {
   "cell_type": "code",
   "execution_count": null,
   "id": "11b85b52-dc59-4936-9421-468340adbc42",
   "metadata": {},
   "outputs": [],
   "source": []
  },
  {
   "cell_type": "code",
   "execution_count": 12,
   "id": "9677244c",
   "metadata": {},
   "outputs": [
    {
     "name": "stdin",
     "output_type": "stream",
     "text": [
      " skaæslkas\n"
     ]
    },
    {
     "name": "stdout",
     "output_type": "stream",
     "text": [
      "True\n"
     ]
    }
   ],
   "source": [
    "kelime=set(input( ))\n",
    "sol_el=\"qwertyasdfghzxcvb\"\n",
    "sag_el=\"uiopiklmn\"\n",
    "sol=bool(kelime.difference(sol_el))\n",
    "sag=bool(kelime.difference (sag_el))\n",
    "print(sol and sag)"
   ]
  },
  {
   "cell_type": "code",
   "execution_count": null,
   "id": "e88e0044-5c8a-4c17-9f79-b1c82484132b",
   "metadata": {},
   "outputs": [],
   "source": []
  },
  {
   "cell_type": "code",
   "execution_count": null,
   "id": "635f27f2-215f-4b83-833e-2048a78c1864",
   "metadata": {},
   "outputs": [],
   "source": []
  },
  {
   "cell_type": "code",
   "execution_count": null,
   "id": "4851996c-4cbb-42ad-905b-85155878c152",
   "metadata": {},
   "outputs": [],
   "source": []
  },
  {
   "cell_type": "code",
   "execution_count": null,
   "id": "91979f80-bfa3-4b94-b5d4-3665ce1f5e36",
   "metadata": {},
   "outputs": [],
   "source": []
  },
  {
   "cell_type": "code",
   "execution_count": null,
   "id": "5c0b9119-744e-41ae-b7a6-5d63ca2b40bc",
   "metadata": {},
   "outputs": [],
   "source": []
  },
  {
   "cell_type": "code",
   "execution_count": null,
   "id": "cde1b31c-500f-47e5-9a86-f23350ae891b",
   "metadata": {},
   "outputs": [],
   "source": []
  },
  {
   "cell_type": "code",
   "execution_count": null,
   "id": "3cb19232-f02b-4be2-8e66-fdc0ae4e562b",
   "metadata": {},
   "outputs": [],
   "source": []
  },
  {
   "cell_type": "code",
   "execution_count": null,
   "id": "bbf0be08-fc59-4863-9a25-d6944f5a697d",
   "metadata": {},
   "outputs": [],
   "source": []
  },
  {
   "cell_type": "code",
   "execution_count": null,
   "id": "47b366df-659a-4d91-988f-4ecc35bf3d50",
   "metadata": {},
   "outputs": [],
   "source": []
  },
  {
   "cell_type": "code",
   "execution_count": null,
   "id": "87b40119-c2f9-4d1f-93d4-e3219654a0fe",
   "metadata": {},
   "outputs": [],
   "source": []
  },
  {
   "cell_type": "code",
   "execution_count": null,
   "id": "b97cd246-d8ea-4846-8719-248a56dd00d2",
   "metadata": {},
   "outputs": [],
   "source": []
  },
  {
   "cell_type": "code",
   "execution_count": null,
   "id": "172f3ae6-d6d4-4022-b84a-fe6f63accad1",
   "metadata": {},
   "outputs": [],
   "source": []
  }
 ],
 "metadata": {
  "kernelspec": {
   "display_name": "Python 3 (ipykernel)",
   "language": "python",
   "name": "python3"
  },
  "language_info": {
   "codemirror_mode": {
    "name": "ipython",
    "version": 3
   },
   "file_extension": ".py",
   "mimetype": "text/x-python",
   "name": "python",
   "nbconvert_exporter": "python",
   "pygments_lexer": "ipython3",
   "version": "3.10.5"
  }
 },
 "nbformat": 4,
 "nbformat_minor": 5
}
