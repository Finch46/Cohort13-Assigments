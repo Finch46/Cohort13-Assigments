{
 "cells": [
  {
   "cell_type": "markdown",
   "id": "a5584c8d",
   "metadata": {},
   "source": [
    "Hiçbir şey imkansız değildir. Sonuçta imkansızın içinde bile imkan bulunuyor. - Audrey Hepburn"
   ]
  },
  {
   "cell_type": "code",
   "execution_count": 1,
   "id": "40f258a9-f526-404a-9354-f2c20466fe6b",
   "metadata": {},
   "outputs": [
    {
     "name": "stdout",
     "output_type": "stream",
     "text": [
      "write something :   Hiçbir şey imkansız değildir. Sonuçta imkansızın içinde bile imkan bulunuyor. - Audrey Hepburn\n"
     ]
    },
    {
     "name": "stdout",
     "output_type": "stream",
     "text": [
      "{'H': 2, 'i': 10, 'ç': 3, 'b': 4, 'r': 5, ' ': 12, 'ş': 1, 'e': 6, 'y': 3, 'm': 3, 'k': 3, 'a': 4, 'n': 8, 's': 2, 'ı': 3, 'z': 2, 'd': 4, 'ğ': 1, 'l': 3, '.': 2, 'S': 1, 'o': 2, 'u': 6, 't': 1, '-': 1, 'A': 1, 'p': 1}\n"
     ]
    }
   ],
   "source": [
    "a = input(\"write something :  \")\n",
    "\n",
    "word_dic = {}\n",
    "\n",
    "for n in a :\n",
    "    \n",
    "    if n in word_dic:\n",
    "        word_dic[n] += 1\n",
    "        \n",
    "    else :\n",
    "        word_dic[n] = 1\n",
    "        \n",
    "print(word_dic)"
   ]
  },
  {
   "cell_type": "code",
   "execution_count": null,
   "id": "0033ad27",
   "metadata": {},
   "outputs": [],
   "source": []
  },
  {
   "cell_type": "code",
   "execution_count": null,
   "id": "fce82a69-91ea-4dc8-93a7-fd32ed21ef66",
   "metadata": {},
   "outputs": [],
   "source": []
  }
 ],
 "metadata": {
  "kernelspec": {
   "display_name": "Python 3 (ipykernel)",
   "language": "python",
   "name": "python3"
  },
  "language_info": {
   "codemirror_mode": {
    "name": "ipython",
    "version": 3
   },
   "file_extension": ".py",
   "mimetype": "text/x-python",
   "name": "python",
   "nbconvert_exporter": "python",
   "pygments_lexer": "ipython3",
   "version": "3.10.5"
  }
 },
 "nbformat": 4,
 "nbformat_minor": 5
}
