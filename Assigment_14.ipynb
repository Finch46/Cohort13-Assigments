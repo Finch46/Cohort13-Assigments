{
 "cells": [
  {
   "cell_type": "code",
   "execution_count": 3,
   "id": "9245908d-0a91-40b0-a03c-c66d9306aa9f",
   "metadata": {},
   "outputs": [
    {
     "data": {
      "text/plain": [
       "[1, 1, 2, 3, 5, 8, 13, 21, 34, 55]"
      ]
     },
     "execution_count": 3,
     "metadata": {},
     "output_type": "execute_result"
    }
   ],
   "source": [
    "fibo_naci = [1, 1]\n",
    "while max(fibo_naci) < 55 :\n",
    "  fibo_naci.append(fibo_naci[-1] + fibo_naci[-2])\n",
    "\n",
    "fibo_naci"
   ]
  },
  {
   "cell_type": "code",
   "execution_count": 2,
   "id": "632df95c-8ed8-482b-9ad0-c268311a1177",
   "metadata": {},
   "outputs": [
    {
     "name": "stdin",
     "output_type": "stream",
     "text": [
      "Enter the number of sequence of Fibonacci. 10\n"
     ]
    },
    {
     "data": {
      "text/plain": [
       "[1, 1, 2, 3, 5, 8, 13, 21, 34, 55]"
      ]
     },
     "execution_count": 2,
     "metadata": {},
     "output_type": "execute_result"
    }
   ],
   "source": [
    "a = int(input(\"Enter the number of sequence of Fibo_Naci.\"))\n",
    "\n",
    "fibo_naci = [1, 1]\n",
    "\n",
    "for i in range (a-2) :\n",
    "    fibo_naci.append(fibo_naci[i] + fibo_naci[i+1])\n",
    "\n",
    "fibo_naci"
   ]
  },
  {
   "cell_type": "code",
   "execution_count": null,
   "id": "d088c229-1bab-436d-b5ad-83414ca3a2ef",
   "metadata": {},
   "outputs": [],
   "source": []
  }
 ],
 "metadata": {
  "kernelspec": {
   "display_name": "Python 3 (ipykernel)",
   "language": "python",
   "name": "python3"
  },
  "language_info": {
   "codemirror_mode": {
    "name": "ipython",
    "version": 3
   },
   "file_extension": ".py",
   "mimetype": "text/x-python",
   "name": "python",
   "nbconvert_exporter": "python",
   "pygments_lexer": "ipython3",
   "version": "3.10.5"
  }
 },
 "nbformat": 4,
 "nbformat_minor": 5
}
