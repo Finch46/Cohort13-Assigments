{
 "cells": [
  {
   "cell_type": "code",
   "execution_count": 1,
   "id": "5c39d80a-dbf7-4dc0-9948-4cf0cf1142a8",
   "metadata": {},
   "outputs": [
    {
     "name": "stdin",
     "output_type": "stream",
     "text": [
      "Enter number : 2\n"
     ]
    },
    {
     "name": "stdout",
     "output_type": "stream",
     "text": [
      "2  is Prime Number.\n"
     ]
    }
   ],
   "source": [
    "a = int(input(\"Enter number :\"))\n",
    "\n",
    "counter = 0\n",
    "\n",
    "for i in range(1, a + 1) :\n",
    "    if a % i == 0 :\n",
    "        counter += 1\n",
    "        \n",
    "if (a == 0) or (a == 1) or (counter >= 3) :\n",
    "    print(a, \" is not prime number.\")\n",
    "    \n",
    "else:\n",
    "    print(a, \" is prime number.\")"
   ]
  },
  {
   "cell_type": "code",
   "execution_count": null,
   "id": "7083e2bf-bf8f-4c9e-8382-4a278319d018",
   "metadata": {},
   "outputs": [],
   "source": []
  }
 ],
 "metadata": {
  "kernelspec": {
   "display_name": "Python 3 (ipykernel)",
   "language": "python",
   "name": "python3"
  },
  "language_info": {
   "codemirror_mode": {
    "name": "ipython",
    "version": 3
   },
   "file_extension": ".py",
   "mimetype": "text/x-python",
   "name": "python",
   "nbconvert_exporter": "python",
   "pygments_lexer": "ipython3",
   "version": "3.10.5"
  }
 },
 "nbformat": 4,
 "nbformat_minor": 5
}
