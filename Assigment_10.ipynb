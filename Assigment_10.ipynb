{
 "cells": [
  {
   "cell_type": "code",
   "execution_count": 2,
   "id": "d60bfa79-558d-4b50-a182-410432c9a067",
   "metadata": {},
   "outputs": [
    {
     "name": "stdin",
     "output_type": "stream",
     "text": [
      "Are you a cigarette addict older than 75 years old? (Yes/No) yes\n",
      "Do you have a severe chronic disease (Yes/No) no\n",
      "Is your immune system too weak (Yes/No) no\n"
     ]
    },
    {
     "name": "stdout",
     "output_type": "stream",
     "text": [
      "You are in risky group\n"
     ]
    }
   ],
   "source": [
    "age=input(\"Are you a cigarette addict older than 75 years old? (Yes/No)\").lower()\n",
    "chronic=input (\"Do you have a severe chronic disease (Yes/No)\").lower()\n",
    "immune=input(\"Is your immune system too weak (Yes/No)\").lower()\n",
    "\n",
    "if (age==\"yes\") or (chronic==\"yes\") or (immune==\"yes\"):\n",
    "    print(\"You are in risky group\")\n",
    "    \n",
    "else:\n",
    "    print(\"You are not in risky group\")"
   ]
  },
  {
   "cell_type": "code",
   "execution_count": 3,
   "id": "5ed4a025-f9e2-46cd-9523-9a1b464d4ad4",
   "metadata": {},
   "outputs": [
    {
     "name": "stdin",
     "output_type": "stream",
     "text": [
      "Are you a cigarette addict older than 75 years old? (Yes/No) no\n",
      "Do you have a severe chronic disease (Yes/No) no\n",
      "Is your immune system too weak (Yes/No) no\n"
     ]
    },
    {
     "name": "stdout",
     "output_type": "stream",
     "text": [
      "You are not in risky group\n"
     ]
    }
   ],
   "source": [
    "age=input(\"Are you a cigarette addict older than 75 years old? (Yes/No)\").lower()\n",
    "chronic=input (\"Do you have a severe chronic disease (Yes/No)\").lower()\n",
    "immune=input(\"Is your immune system too weak (Yes/No)\").lower()\n",
    "\n",
    "if (age==\"yes\") or (chronic==\"yes\") or (immune==\"yes\"):\n",
    "    print(\"You are in risky group\")\n",
    "    \n",
    "else:\n",
    "    print(\"You are not in risky group\")"
   ]
  },
  {
   "cell_type": "code",
   "execution_count": null,
   "id": "40cd75bd-75fc-424f-8c20-57452e5d2124",
   "metadata": {},
   "outputs": [],
   "source": []
  },
  {
   "cell_type": "code",
   "execution_count": null,
   "id": "796c06cd-d582-4223-86e8-ea25f5465dd9",
   "metadata": {},
   "outputs": [],
   "source": []
  },
  {
   "cell_type": "code",
   "execution_count": null,
   "id": "54cc18cb-4a78-4a56-89c1-cf8e1fdf7d4a",
   "metadata": {},
   "outputs": [],
   "source": []
  },
  {
   "cell_type": "code",
   "execution_count": null,
   "id": "1ccbd5ef-1207-43b1-9579-ee58de7f5d16",
   "metadata": {},
   "outputs": [],
   "source": []
  },
  {
   "cell_type": "code",
   "execution_count": null,
   "id": "6befc435-fec3-454e-96dd-68fcd25254ba",
   "metadata": {},
   "outputs": [],
   "source": []
  },
  {
   "cell_type": "code",
   "execution_count": null,
   "id": "92d90912-f5b8-44d7-9b99-8e1d480dc5f0",
   "metadata": {},
   "outputs": [],
   "source": []
  }
 ],
 "metadata": {
  "kernelspec": {
   "display_name": "Python 3 (ipykernel)",
   "language": "python",
   "name": "python3"
  },
  "language_info": {
   "codemirror_mode": {
    "name": "ipython",
    "version": 3
   },
   "file_extension": ".py",
   "mimetype": "text/x-python",
   "name": "python",
   "nbconvert_exporter": "python",
   "pygments_lexer": "ipython3",
   "version": "3.10.5"
  }
 },
 "nbformat": 4,
 "nbformat_minor": 5
}
